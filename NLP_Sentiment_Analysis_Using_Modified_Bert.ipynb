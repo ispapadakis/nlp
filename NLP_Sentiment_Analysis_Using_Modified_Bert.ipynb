{
  "nbformat": 4,
  "nbformat_minor": 0,
  "metadata": {
    "colab": {
      "name": "NLP_Sentiment_Analysis_Using_Modified_Bert.ipynb",
      "provenance": [],
      "collapsed_sections": [],
      "toc_visible": true,
      "include_colab_link": true
    },
    "kernelspec": {
      "name": "python3",
      "display_name": "Python 3"
    },
    "accelerator": "GPU"
  },
  "cells": [
    {
      "cell_type": "markdown",
      "metadata": {
        "id": "view-in-github",
        "colab_type": "text"
      },
      "source": [
        "<a href=\"https://colab.research.google.com/github/ispapadakis/nlp/blob/master/NLP_Sentiment_Analysis_Using_Modified_Bert.ipynb\" target=\"_parent\"><img src=\"https://colab.research.google.com/assets/colab-badge.svg\" alt=\"Open In Colab\"/></a>"
      ]
    },
    {
      "cell_type": "markdown",
      "metadata": {
        "id": "hvm1uIXfFaeg"
      },
      "source": [
        "# NLP Sentiment Analysis Using BERT-Fine-Tuning\n",
        "\n",
        "**FEATURES**\n",
        "\n",
        "- Uses Tensorflow 2\n",
        "- Applied to New Dataset: Quora Insincere Questions Classification"
      ]
    },
    {
      "cell_type": "markdown",
      "metadata": {
        "id": "tUjiNBDqUrLu"
      },
      "source": [
        "- Based on https://www.tensorflow.org/tutorials/text/classify_text_with_bert\n",
        "\n",
        "- With model optimization"
      ]
    },
    {
      "cell_type": "markdown",
      "metadata": {
        "id": "i99JlhwGjyjY"
      },
      "source": [
        "**Modeling Strategy**\n",
        "\n",
        "- Use one of the many Bert models available on Tensorflow.\n",
        "- Add fully connected layers on top\n",
        "- Fit the resulting model to the data at hand"
      ]
    },
    {
      "cell_type": "markdown",
      "metadata": {
        "id": "XVDWD5pKnrUm"
      },
      "source": [
        "# Install & Load Packages"
      ]
    },
    {
      "cell_type": "code",
      "metadata": {
        "colab": {
          "base_uri": "https://localhost:8080/"
        },
        "id": "untM-oRpP93D",
        "outputId": "9570db50-5367-486f-bd89-039d32e5fb57"
      },
      "source": [
        "# @title Install Libraries\n",
        "!pip install -q tensorflow-text"
      ],
      "execution_count": 1,
      "outputs": [
        {
          "output_type": "stream",
          "text": [
            "\u001b[K     |████████████████████████████████| 3.4MB 9.7MB/s \n",
            "\u001b[?25h"
          ],
          "name": "stdout"
        }
      ]
    },
    {
      "cell_type": "code",
      "metadata": {
        "colab": {
          "base_uri": "https://localhost:8080/"
        },
        "id": "VaqUKH6FP95j",
        "outputId": "f9ce66ca-bbdb-4f5a-d0c6-9bb06d09c767"
      },
      "source": [
        "!pip install -q tf-models-official"
      ],
      "execution_count": 2,
      "outputs": [
        {
          "output_type": "stream",
          "text": [
            "\u001b[K     |████████████████████████████████| 1.1MB 10.0MB/s \n",
            "\u001b[K     |████████████████████████████████| 1.2MB 34.1MB/s \n",
            "\u001b[K     |████████████████████████████████| 358kB 38.6MB/s \n",
            "\u001b[K     |████████████████████████████████| 102kB 9.7MB/s \n",
            "\u001b[K     |████████████████████████████████| 645kB 40.4MB/s \n",
            "\u001b[K     |████████████████████████████████| 174kB 43.4MB/s \n",
            "\u001b[K     |████████████████████████████████| 706kB 24.4MB/s \n",
            "\u001b[K     |████████████████████████████████| 37.6MB 77kB/s \n",
            "\u001b[K     |████████████████████████████████| 51kB 5.0MB/s \n",
            "\u001b[?25h  Building wheel for py-cpuinfo (setup.py) ... \u001b[?25l\u001b[?25hdone\n",
            "  Building wheel for seqeval (setup.py) ... \u001b[?25l\u001b[?25hdone\n"
          ],
          "name": "stdout"
        }
      ]
    },
    {
      "cell_type": "code",
      "metadata": {
        "id": "KmyR4aCWP97-"
      },
      "source": [
        "# @title Load Packages\n",
        "\n",
        "import os\n",
        "import shutil\n",
        "from itertools import product\n",
        "\n",
        "import tensorflow as tf\n",
        "import tensorflow_hub as hub\n",
        "import tensorflow_text as text\n",
        "from official.nlp import optimization  # to create AdamW optmizer\n",
        "\n",
        "import matplotlib.pyplot as plt\n",
        "from sklearn.metrics import classification_report\n",
        "import numpy as np\n",
        "import pandas as pd\n",
        "\n",
        "tf.get_logger().setLevel('ERROR')"
      ],
      "execution_count": 3,
      "outputs": []
    },
    {
      "cell_type": "code",
      "metadata": {
        "id": "lI-sJ7Uyhsm-"
      },
      "source": [
        "max_seq_length = 70"
      ],
      "execution_count": 4,
      "outputs": []
    },
    {
      "cell_type": "markdown",
      "metadata": {
        "id": "1uIw8zYWn0eK"
      },
      "source": [
        "# Load Data\n",
        "\n",
        "Obtain Dataset from Quora Insincere Questions Classification Competition\n",
        "\n",
        "The data consists of short questions from Quora, that are labeled as sincere (0) or insincere (1). It is reasonably large to capture the needs for a real-life application. Out of necessity and to demonstrate the capability we begin with data broken down to smaller files (in .csv form). Our model is fit using Tensorflow generators. This way we limit the amount of memory needed for a) model fitting and b) scoring."
      ]
    },
    {
      "cell_type": "code",
      "metadata": {
        "id": "q6FX6ByPhAo3"
      },
      "source": [
        "!git clone https://github.com/ispapadakis/nlp -q"
      ],
      "execution_count": 5,
      "outputs": []
    },
    {
      "cell_type": "code",
      "metadata": {
        "id": "fTOXQiT9hvCO"
      },
      "source": [
        "!unzip -jq /content/nlp/quora_test.zip -d quora_test"
      ],
      "execution_count": 6,
      "outputs": []
    },
    {
      "cell_type": "code",
      "metadata": {
        "id": "ZKHK3eEdh5fl"
      },
      "source": [
        "!unzip -jq /content/nlp/quora_train_1.zip -d quora_train\n",
        "!unzip -jq /content/nlp/quora_train_2.zip -d quora_train\n",
        "!unzip -jq /content/nlp/quora_train_3.zip -d quora_train"
      ],
      "execution_count": 7,
      "outputs": []
    },
    {
      "cell_type": "code",
      "metadata": {
        "colab": {
          "base_uri": "https://localhost:8080/"
        },
        "id": "HUJaEfpeeRiV",
        "outputId": "1acbd3b3-e7ac-4c61-ccc9-ade69221fca1"
      },
      "source": [
        "!ls quora_train"
      ],
      "execution_count": 8,
      "outputs": [
        {
          "output_type": "stream",
          "text": [
            "part_10.csv  part_16.csv  part_21.csv  part_27.csv  part_32.csv  part_7.csv\n",
            "part_11.csv  part_17.csv  part_22.csv  part_28.csv  part_33.csv  part_8.csv\n",
            "part_12.csv  part_18.csv  part_23.csv  part_29.csv  part_3.csv\t part_9.csv\n",
            "part_13.csv  part_19.csv  part_24.csv  part_2.csv   part_4.csv\n",
            "part_14.csv  part_1.csv   part_25.csv  part_30.csv  part_5.csv\n",
            "part_15.csv  part_20.csv  part_26.csv  part_31.csv  part_6.csv\n"
          ],
          "name": "stdout"
        }
      ]
    },
    {
      "cell_type": "code",
      "metadata": {
        "id": "plKq_DLOVIE-"
      },
      "source": [
        "!rm -R nlp"
      ],
      "execution_count": 9,
      "outputs": []
    },
    {
      "cell_type": "code",
      "metadata": {
        "id": "UxFX18KtrZeM",
        "colab": {
          "base_uri": "https://localhost:8080/"
        },
        "outputId": "8228a84e-8748-4b5d-db22-658d62b564b5"
      },
      "source": [
        "df = pd.read_csv(\"quora_train/part_1.csv\")\n",
        "\n",
        "df.info()"
      ],
      "execution_count": 10,
      "outputs": [
        {
          "output_type": "stream",
          "text": [
            "<class 'pandas.core.frame.DataFrame'>\n",
            "RangeIndex: 39998 entries, 0 to 39997\n",
            "Data columns (total 3 columns):\n",
            " #   Column         Non-Null Count  Dtype \n",
            "---  ------         --------------  ----- \n",
            " 0   qid            39998 non-null  object\n",
            " 1   question_text  39998 non-null  object\n",
            " 2   target         39998 non-null  int64 \n",
            "dtypes: int64(1), object(2)\n",
            "memory usage: 937.6+ KB\n"
          ],
          "name": "stdout"
        }
      ]
    },
    {
      "cell_type": "code",
      "metadata": {
        "colab": {
          "base_uri": "https://localhost:8080/",
          "height": 648
        },
        "id": "RRDhUa28MipF",
        "outputId": "9f8e43a8-820f-4472-fa60-9557ba505941"
      },
      "source": [
        "df.groupby(df.target).head(10)"
      ],
      "execution_count": 11,
      "outputs": [
        {
          "output_type": "execute_result",
          "data": {
            "text/html": [
              "<div>\n",
              "<style scoped>\n",
              "    .dataframe tbody tr th:only-of-type {\n",
              "        vertical-align: middle;\n",
              "    }\n",
              "\n",
              "    .dataframe tbody tr th {\n",
              "        vertical-align: top;\n",
              "    }\n",
              "\n",
              "    .dataframe thead th {\n",
              "        text-align: right;\n",
              "    }\n",
              "</style>\n",
              "<table border=\"1\" class=\"dataframe\">\n",
              "  <thead>\n",
              "    <tr style=\"text-align: right;\">\n",
              "      <th></th>\n",
              "      <th>qid</th>\n",
              "      <th>question_text</th>\n",
              "      <th>target</th>\n",
              "    </tr>\n",
              "  </thead>\n",
              "  <tbody>\n",
              "    <tr>\n",
              "      <th>0</th>\n",
              "      <td>00002165364db923c7e6</td>\n",
              "      <td>How did Quebec nationalists see their province...</td>\n",
              "      <td>0</td>\n",
              "    </tr>\n",
              "    <tr>\n",
              "      <th>1</th>\n",
              "      <td>000032939017120e6e44</td>\n",
              "      <td>Do you have an adopted dog, how would you enco...</td>\n",
              "      <td>0</td>\n",
              "    </tr>\n",
              "    <tr>\n",
              "      <th>2</th>\n",
              "      <td>0000412ca6e4628ce2cf</td>\n",
              "      <td>Why does velocity affect time? Does velocity a...</td>\n",
              "      <td>0</td>\n",
              "    </tr>\n",
              "    <tr>\n",
              "      <th>3</th>\n",
              "      <td>000042bf85aa498cd78e</td>\n",
              "      <td>How did Otto von Guericke used the Magdeburg h...</td>\n",
              "      <td>0</td>\n",
              "    </tr>\n",
              "    <tr>\n",
              "      <th>4</th>\n",
              "      <td>0000455dfa3e01eae3af</td>\n",
              "      <td>Can I convert montra helicon D to a mountain b...</td>\n",
              "      <td>0</td>\n",
              "    </tr>\n",
              "    <tr>\n",
              "      <th>5</th>\n",
              "      <td>00004f9a462a357c33be</td>\n",
              "      <td>Is Gaza slowly becoming Auschwitz, Dachau or T...</td>\n",
              "      <td>0</td>\n",
              "    </tr>\n",
              "    <tr>\n",
              "      <th>6</th>\n",
              "      <td>00005059a06ee19e11ad</td>\n",
              "      <td>Why does Quora automatically ban conservative ...</td>\n",
              "      <td>0</td>\n",
              "    </tr>\n",
              "    <tr>\n",
              "      <th>7</th>\n",
              "      <td>0000559f875832745e2e</td>\n",
              "      <td>Is it crazy if I wash or wipe my groceries off...</td>\n",
              "      <td>0</td>\n",
              "    </tr>\n",
              "    <tr>\n",
              "      <th>8</th>\n",
              "      <td>00005bd3426b2d0c8305</td>\n",
              "      <td>Is there such a thing as dressing moderately, ...</td>\n",
              "      <td>0</td>\n",
              "    </tr>\n",
              "    <tr>\n",
              "      <th>9</th>\n",
              "      <td>00006e6928c5df60eacb</td>\n",
              "      <td>Is it just me or have you ever been in this ph...</td>\n",
              "      <td>0</td>\n",
              "    </tr>\n",
              "    <tr>\n",
              "      <th>22</th>\n",
              "      <td>0000e91571b60c2fb487</td>\n",
              "      <td>Has the United States become the largest dicta...</td>\n",
              "      <td>1</td>\n",
              "    </tr>\n",
              "    <tr>\n",
              "      <th>30</th>\n",
              "      <td>00013ceca3f624b09f42</td>\n",
              "      <td>Which babies are more sweeter to their parents...</td>\n",
              "      <td>1</td>\n",
              "    </tr>\n",
              "    <tr>\n",
              "      <th>110</th>\n",
              "      <td>0004a7fcb2bf73076489</td>\n",
              "      <td>If blacks support school choice and mandatory ...</td>\n",
              "      <td>1</td>\n",
              "    </tr>\n",
              "    <tr>\n",
              "      <th>114</th>\n",
              "      <td>00052793eaa287aff1e1</td>\n",
              "      <td>I am gay boy and I love my cousin (boy). He is...</td>\n",
              "      <td>1</td>\n",
              "    </tr>\n",
              "    <tr>\n",
              "      <th>115</th>\n",
              "      <td>000537213b01fd77b58a</td>\n",
              "      <td>Which races have the smallest penis?</td>\n",
              "      <td>1</td>\n",
              "    </tr>\n",
              "    <tr>\n",
              "      <th>119</th>\n",
              "      <td>00056d45a1ce63856fc6</td>\n",
              "      <td>Why do females find penises ugly?</td>\n",
              "      <td>1</td>\n",
              "    </tr>\n",
              "    <tr>\n",
              "      <th>127</th>\n",
              "      <td>0005de07b07a17046e27</td>\n",
              "      <td>How do I marry an American woman for a Green C...</td>\n",
              "      <td>1</td>\n",
              "    </tr>\n",
              "    <tr>\n",
              "      <th>144</th>\n",
              "      <td>00068875d7c82a5bcf88</td>\n",
              "      <td>Why do Europeans say they're the superior race...</td>\n",
              "      <td>1</td>\n",
              "    </tr>\n",
              "    <tr>\n",
              "      <th>156</th>\n",
              "      <td>0006ffd99a6599ff35b3</td>\n",
              "      <td>Did Julius Caesar bring a tyrannosaurus rex on...</td>\n",
              "      <td>1</td>\n",
              "    </tr>\n",
              "    <tr>\n",
              "      <th>167</th>\n",
              "      <td>00075f7061837807c69f</td>\n",
              "      <td>In what manner has Republican backing of 'stat...</td>\n",
              "      <td>1</td>\n",
              "    </tr>\n",
              "  </tbody>\n",
              "</table>\n",
              "</div>"
            ],
            "text/plain": [
              "                      qid  ... target\n",
              "0    00002165364db923c7e6  ...      0\n",
              "1    000032939017120e6e44  ...      0\n",
              "2    0000412ca6e4628ce2cf  ...      0\n",
              "3    000042bf85aa498cd78e  ...      0\n",
              "4    0000455dfa3e01eae3af  ...      0\n",
              "5    00004f9a462a357c33be  ...      0\n",
              "6    00005059a06ee19e11ad  ...      0\n",
              "7    0000559f875832745e2e  ...      0\n",
              "8    00005bd3426b2d0c8305  ...      0\n",
              "9    00006e6928c5df60eacb  ...      0\n",
              "22   0000e91571b60c2fb487  ...      1\n",
              "30   00013ceca3f624b09f42  ...      1\n",
              "110  0004a7fcb2bf73076489  ...      1\n",
              "114  00052793eaa287aff1e1  ...      1\n",
              "115  000537213b01fd77b58a  ...      1\n",
              "119  00056d45a1ce63856fc6  ...      1\n",
              "127  0005de07b07a17046e27  ...      1\n",
              "144  00068875d7c82a5bcf88  ...      1\n",
              "156  0006ffd99a6599ff35b3  ...      1\n",
              "167  00075f7061837807c69f  ...      1\n",
              "\n",
              "[20 rows x 3 columns]"
            ]
          },
          "metadata": {
            "tags": []
          },
          "execution_count": 11
        }
      ]
    },
    {
      "cell_type": "code",
      "metadata": {
        "colab": {
          "base_uri": "https://localhost:8080/"
        },
        "id": "rG1iwnj8MqKj",
        "outputId": "b0b214b2-8b66-477b-8af2-15f9417f84af"
      },
      "source": [
        "df.question_text[0], df.target[0], df.target.mean()"
      ],
      "execution_count": 12,
      "outputs": [
        {
          "output_type": "execute_result",
          "data": {
            "text/plain": [
              "('How did Quebec nationalists see their province as a nation in the 1960s?',\n",
              " 0,\n",
              " 0.06190309515475774)"
            ]
          },
          "metadata": {
            "tags": []
          },
          "execution_count": 12
        }
      ]
    },
    {
      "cell_type": "code",
      "metadata": {
        "colab": {
          "base_uri": "https://localhost:8080/"
        },
        "id": "iTvuySElpejr",
        "outputId": "6ad0ac54-e5b1-4340-ca8f-680532f7e7c1"
      },
      "source": [
        "import gc\n",
        "del df\n",
        "gc.collect()"
      ],
      "execution_count": 13,
      "outputs": [
        {
          "output_type": "execute_result",
          "data": {
            "text/plain": [
              "112"
            ]
          },
          "metadata": {
            "tags": []
          },
          "execution_count": 13
        }
      ]
    },
    {
      "cell_type": "code",
      "metadata": {
        "colab": {
          "base_uri": "https://localhost:8080/"
        },
        "id": "IIWhnzgTGo2L",
        "outputId": "247b0fe7-8572-4ac6-a704-aab44cc0611e"
      },
      "source": [
        "%%time\n",
        "\n",
        "# @title Build Keras-Friendly Data Structure\n",
        "\n",
        "dir_structure = [['quora'],['train','validation'],['sincere','insincere']]\n",
        "\n",
        "for p in product(*dir_structure):\n",
        "  dname = \"/\".join(p)\n",
        "  if not os.path.isdir(dname): os.makedirs(dname)\n",
        "\n",
        "labeler = lambda x: 'insincere' if x == 1 else 'sincere'\n",
        "\n",
        "def store_text_in_keras_friendly_way(dfdir='quora_train',pathname='quora',validation_ratio=0.5):\n",
        "  for fname in os.listdir(dfdir):\n",
        "    df = pd.read_csv( dfdir + \"/\" + fname)\n",
        "    df['sample'] = ['validation' if x < validation_ratio else 'train' \n",
        "                    for x in np.random.rand(len(df)) > validation_ratio]\n",
        "    for _, tname, txt, lbl, smp in df.itertuples():\n",
        "      path = pathname + \"/\" + smp + \"/\" + labeler(lbl) + \"/\" + tname + \".txt\"\n",
        "      with open(path,'w') as f:\n",
        "        print(txt,file=f)\n",
        "\n",
        "store_text_in_keras_friendly_way()"
      ],
      "execution_count": 14,
      "outputs": [
        {
          "output_type": "stream",
          "text": [
            "CPU times: user 46.3 s, sys: 1min 4s, total: 1min 51s\n",
            "Wall time: 2min 34s\n"
          ],
          "name": "stdout"
        }
      ]
    },
    {
      "cell_type": "code",
      "metadata": {
        "id": "vHC_8itVnmHH"
      },
      "source": [
        "!rm -R quora_train"
      ],
      "execution_count": 15,
      "outputs": []
    },
    {
      "cell_type": "code",
      "metadata": {
        "colab": {
          "base_uri": "https://localhost:8080/"
        },
        "id": "IZCR_KEAWNpw",
        "outputId": "58f408d1-d825-4057-c500-0f2dfd2ef4ea"
      },
      "source": [
        "!cat quora/train/insincere/000e67648fce55f011be.txt"
      ],
      "execution_count": 16,
      "outputs": [
        {
          "output_type": "stream",
          "text": [
            "cat: quora/train/insincere/000e67648fce55f011be.txt: No such file or directory\n"
          ],
          "name": "stdout"
        }
      ]
    },
    {
      "cell_type": "code",
      "metadata": {
        "id": "J_sYn6OSU_oY",
        "colab": {
          "base_uri": "https://localhost:8080/"
        },
        "outputId": "093c1790-d3f9-4929-b1a6-2de849d8e838"
      },
      "source": [
        "AUTOTUNE = tf.data.AUTOTUNE\n",
        "batch_size = 32\n",
        "steps_per_epoch_max = 200\n",
        "\n",
        "train_ds = tf.keras.preprocessing.text_dataset_from_directory('quora/train',batch_size=batch_size, max_length=max_seq_length)\n",
        "valid_ds = tf.keras.preprocessing.text_dataset_from_directory('quora/validation',batch_size=batch_size, max_length=max_seq_length)\n",
        "\n",
        "def configure_dataset(dataset):\n",
        "  return dataset.cache().prefetch(buffer_size=AUTOTUNE)"
      ],
      "execution_count": 17,
      "outputs": [
        {
          "output_type": "stream",
          "text": [
            "Found 654075 files belonging to 2 classes.\n",
            "Found 652047 files belonging to 2 classes.\n"
          ],
          "name": "stdout"
        }
      ]
    },
    {
      "cell_type": "code",
      "metadata": {
        "id": "re7WEm9ByTLP"
      },
      "source": [
        "class_names = train_ds.class_names"
      ],
      "execution_count": 18,
      "outputs": []
    },
    {
      "cell_type": "code",
      "metadata": {
        "colab": {
          "base_uri": "https://localhost:8080/"
        },
        "id": "Qc3o4Z-EQO6V",
        "outputId": "44556ce1-f970-465a-b99a-5007f3b8fce4"
      },
      "source": [
        "for text_batch, label_batch in train_ds.take(1):\n",
        "  for i in range(3):\n",
        "    print(f'Review: {text_batch.numpy()[i]}')\n",
        "    label = label_batch.numpy()[i]\n",
        "    print(f'Label : {label} ({class_names[label]})')"
      ],
      "execution_count": 19,
      "outputs": [
        {
          "output_type": "stream",
          "text": [
            "Review: b'Why does the women say bye sweety?\\n'\n",
            "Label : 1 (sincere)\n",
            "Review: b'Why should I continue living just to make others happy?\\n'\n",
            "Label : 1 (sincere)\n",
            "Review: b'Does the name of the lakes in Slavic languages are only neutral?\\n'\n",
            "Label : 1 (sincere)\n"
          ],
          "name": "stdout"
        }
      ]
    },
    {
      "cell_type": "code",
      "metadata": {
        "id": "TKQXhkXKjgvJ"
      },
      "source": [
        "train_ds = configure_dataset( train_ds.take(7000) )\n",
        "valid_ds = configure_dataset( valid_ds.take(500) )"
      ],
      "execution_count": 20,
      "outputs": []
    },
    {
      "cell_type": "markdown",
      "metadata": {
        "id": "k_Bf1HzXIMTJ"
      },
      "source": [
        "Reducing the size of the training sample to match the computational resources available."
      ]
    },
    {
      "cell_type": "markdown",
      "metadata": {
        "id": "HOylJD0RosWz"
      },
      "source": [
        "# Build Sentiment Analysis Model"
      ]
    },
    {
      "cell_type": "markdown",
      "metadata": {
        "id": "KV2bfeLmpPqv"
      },
      "source": [
        "## BERT Model\n",
        "\n",
        "First Obtain a Pretrained Bert Model\n",
        "\n",
        "*Code Below Hidden*"
      ]
    },
    {
      "cell_type": "code",
      "metadata": {
        "id": "Yc9N4UfVVqam"
      },
      "source": [
        "# @title Select BERT Model\n",
        "\n",
        "bert_model_name = 'electra_small'"
      ],
      "execution_count": 21,
      "outputs": []
    },
    {
      "cell_type": "code",
      "metadata": {
        "colab": {
          "base_uri": "https://localhost:8080/"
        },
        "id": "nWcqdY04QPIh",
        "cellView": "form",
        "outputId": "ac1d1695-2523-46fe-c99d-55a19ebbbbed"
      },
      "source": [
        "#@title\n",
        "# All Available Models\n",
        "map_name_to_handle = {\n",
        "    'bert_en_uncased_L-12_H-768_A-12':\n",
        "        'https://tfhub.dev/tensorflow/bert_en_uncased_L-12_H-768_A-12/3',\n",
        "    'bert_en_cased_L-12_H-768_A-12':\n",
        "        'https://tfhub.dev/tensorflow/bert_en_cased_L-12_H-768_A-12/3',\n",
        "    'bert_multi_cased_L-12_H-768_A-12':\n",
        "        'https://tfhub.dev/tensorflow/bert_multi_cased_L-12_H-768_A-12/3',\n",
        "    'small_bert/bert_en_uncased_L-2_H-128_A-2':\n",
        "        'https://tfhub.dev/tensorflow/small_bert/bert_en_uncased_L-2_H-128_A-2/1',\n",
        "    'small_bert/bert_en_uncased_L-2_H-256_A-4':\n",
        "        'https://tfhub.dev/tensorflow/small_bert/bert_en_uncased_L-2_H-256_A-4/1',\n",
        "    'small_bert/bert_en_uncased_L-2_H-512_A-8':\n",
        "        'https://tfhub.dev/tensorflow/small_bert/bert_en_uncased_L-2_H-512_A-8/1',\n",
        "    'small_bert/bert_en_uncased_L-2_H-768_A-12':\n",
        "        'https://tfhub.dev/tensorflow/small_bert/bert_en_uncased_L-2_H-768_A-12/1',\n",
        "    'small_bert/bert_en_uncased_L-4_H-128_A-2':\n",
        "        'https://tfhub.dev/tensorflow/small_bert/bert_en_uncased_L-4_H-128_A-2/1',\n",
        "    'small_bert/bert_en_uncased_L-4_H-256_A-4':\n",
        "        'https://tfhub.dev/tensorflow/small_bert/bert_en_uncased_L-4_H-256_A-4/1',\n",
        "    'small_bert/bert_en_uncased_L-4_H-512_A-8':\n",
        "        'https://tfhub.dev/tensorflow/small_bert/bert_en_uncased_L-4_H-512_A-8/1',\n",
        "    'small_bert/bert_en_uncased_L-4_H-768_A-12':\n",
        "        'https://tfhub.dev/tensorflow/small_bert/bert_en_uncased_L-4_H-768_A-12/1',\n",
        "    'small_bert/bert_en_uncased_L-6_H-128_A-2':\n",
        "        'https://tfhub.dev/tensorflow/small_bert/bert_en_uncased_L-6_H-128_A-2/1',\n",
        "    'small_bert/bert_en_uncased_L-6_H-256_A-4':\n",
        "        'https://tfhub.dev/tensorflow/small_bert/bert_en_uncased_L-6_H-256_A-4/1',\n",
        "    'small_bert/bert_en_uncased_L-6_H-512_A-8':\n",
        "        'https://tfhub.dev/tensorflow/small_bert/bert_en_uncased_L-6_H-512_A-8/1',\n",
        "    'small_bert/bert_en_uncased_L-6_H-768_A-12':\n",
        "        'https://tfhub.dev/tensorflow/small_bert/bert_en_uncased_L-6_H-768_A-12/1',\n",
        "    'small_bert/bert_en_uncased_L-8_H-128_A-2':\n",
        "        'https://tfhub.dev/tensorflow/small_bert/bert_en_uncased_L-8_H-128_A-2/1',\n",
        "    'small_bert/bert_en_uncased_L-8_H-256_A-4':\n",
        "        'https://tfhub.dev/tensorflow/small_bert/bert_en_uncased_L-8_H-256_A-4/1',\n",
        "    'small_bert/bert_en_uncased_L-8_H-512_A-8':\n",
        "        'https://tfhub.dev/tensorflow/small_bert/bert_en_uncased_L-8_H-512_A-8/1',\n",
        "    'small_bert/bert_en_uncased_L-8_H-768_A-12':\n",
        "        'https://tfhub.dev/tensorflow/small_bert/bert_en_uncased_L-8_H-768_A-12/1',\n",
        "    'small_bert/bert_en_uncased_L-10_H-128_A-2':\n",
        "        'https://tfhub.dev/tensorflow/small_bert/bert_en_uncased_L-10_H-128_A-2/1',\n",
        "    'small_bert/bert_en_uncased_L-10_H-256_A-4':\n",
        "        'https://tfhub.dev/tensorflow/small_bert/bert_en_uncased_L-10_H-256_A-4/1',\n",
        "    'small_bert/bert_en_uncased_L-10_H-512_A-8':\n",
        "        'https://tfhub.dev/tensorflow/small_bert/bert_en_uncased_L-10_H-512_A-8/1',\n",
        "    'small_bert/bert_en_uncased_L-10_H-768_A-12':\n",
        "        'https://tfhub.dev/tensorflow/small_bert/bert_en_uncased_L-10_H-768_A-12/1',\n",
        "    'small_bert/bert_en_uncased_L-12_H-128_A-2':\n",
        "        'https://tfhub.dev/tensorflow/small_bert/bert_en_uncased_L-12_H-128_A-2/1',\n",
        "    'small_bert/bert_en_uncased_L-12_H-256_A-4':\n",
        "        'https://tfhub.dev/tensorflow/small_bert/bert_en_uncased_L-12_H-256_A-4/1',\n",
        "    'small_bert/bert_en_uncased_L-12_H-512_A-8':\n",
        "        'https://tfhub.dev/tensorflow/small_bert/bert_en_uncased_L-12_H-512_A-8/1',\n",
        "    'small_bert/bert_en_uncased_L-12_H-768_A-12':\n",
        "        'https://tfhub.dev/tensorflow/small_bert/bert_en_uncased_L-12_H-768_A-12/1',\n",
        "    'albert_en_base':\n",
        "        'https://tfhub.dev/tensorflow/albert_en_base/2',\n",
        "    'electra_small':\n",
        "        'https://tfhub.dev/google/electra_small/2',\n",
        "    'electra_base':\n",
        "        'https://tfhub.dev/google/electra_base/2',\n",
        "    'experts_pubmed':\n",
        "        'https://tfhub.dev/google/experts/bert/pubmed/2',\n",
        "    'experts_wiki_books':\n",
        "        'https://tfhub.dev/google/experts/bert/wiki_books/2',\n",
        "    'talking-heads_base':\n",
        "        'https://tfhub.dev/tensorflow/talkheads_ggelu_bert_en_base/1',\n",
        "}\n",
        "\n",
        "# All Available Preprocessing Models\n",
        "map_model_to_preprocess = {\n",
        "    'bert_en_uncased_L-12_H-768_A-12':\n",
        "        'https://tfhub.dev/tensorflow/bert_en_uncased_preprocess/3',\n",
        "    'bert_en_cased_L-12_H-768_A-12':\n",
        "        'https://tfhub.dev/tensorflow/bert_en_cased_preprocess/3',\n",
        "    'small_bert/bert_en_uncased_L-2_H-128_A-2':\n",
        "        'https://tfhub.dev/tensorflow/bert_en_uncased_preprocess/3',\n",
        "    'small_bert/bert_en_uncased_L-2_H-256_A-4':\n",
        "        'https://tfhub.dev/tensorflow/bert_en_uncased_preprocess/3',\n",
        "    'small_bert/bert_en_uncased_L-2_H-512_A-8':\n",
        "        'https://tfhub.dev/tensorflow/bert_en_uncased_preprocess/3',\n",
        "    'small_bert/bert_en_uncased_L-2_H-768_A-12':\n",
        "        'https://tfhub.dev/tensorflow/bert_en_uncased_preprocess/3',\n",
        "    'small_bert/bert_en_uncased_L-4_H-128_A-2':\n",
        "        'https://tfhub.dev/tensorflow/bert_en_uncased_preprocess/3',\n",
        "    'small_bert/bert_en_uncased_L-4_H-256_A-4':\n",
        "        'https://tfhub.dev/tensorflow/bert_en_uncased_preprocess/3',\n",
        "    'small_bert/bert_en_uncased_L-4_H-512_A-8':\n",
        "        'https://tfhub.dev/tensorflow/bert_en_uncased_preprocess/3',\n",
        "    'small_bert/bert_en_uncased_L-4_H-768_A-12':\n",
        "        'https://tfhub.dev/tensorflow/bert_en_uncased_preprocess/3',\n",
        "    'small_bert/bert_en_uncased_L-6_H-128_A-2':\n",
        "        'https://tfhub.dev/tensorflow/bert_en_uncased_preprocess/3',\n",
        "    'small_bert/bert_en_uncased_L-6_H-256_A-4':\n",
        "        'https://tfhub.dev/tensorflow/bert_en_uncased_preprocess/3',\n",
        "    'small_bert/bert_en_uncased_L-6_H-512_A-8':\n",
        "        'https://tfhub.dev/tensorflow/bert_en_uncased_preprocess/3',\n",
        "    'small_bert/bert_en_uncased_L-6_H-768_A-12':\n",
        "        'https://tfhub.dev/tensorflow/bert_en_uncased_preprocess/3',\n",
        "    'small_bert/bert_en_uncased_L-8_H-128_A-2':\n",
        "        'https://tfhub.dev/tensorflow/bert_en_uncased_preprocess/3',\n",
        "    'small_bert/bert_en_uncased_L-8_H-256_A-4':\n",
        "        'https://tfhub.dev/tensorflow/bert_en_uncased_preprocess/3',\n",
        "    'small_bert/bert_en_uncased_L-8_H-512_A-8':\n",
        "        'https://tfhub.dev/tensorflow/bert_en_uncased_preprocess/3',\n",
        "    'small_bert/bert_en_uncased_L-8_H-768_A-12':\n",
        "        'https://tfhub.dev/tensorflow/bert_en_uncased_preprocess/3',\n",
        "    'small_bert/bert_en_uncased_L-10_H-128_A-2':\n",
        "        'https://tfhub.dev/tensorflow/bert_en_uncased_preprocess/3',\n",
        "    'small_bert/bert_en_uncased_L-10_H-256_A-4':\n",
        "        'https://tfhub.dev/tensorflow/bert_en_uncased_preprocess/3',\n",
        "    'small_bert/bert_en_uncased_L-10_H-512_A-8':\n",
        "        'https://tfhub.dev/tensorflow/bert_en_uncased_preprocess/3',\n",
        "    'small_bert/bert_en_uncased_L-10_H-768_A-12':\n",
        "        'https://tfhub.dev/tensorflow/bert_en_uncased_preprocess/3',\n",
        "    'small_bert/bert_en_uncased_L-12_H-128_A-2':\n",
        "        'https://tfhub.dev/tensorflow/bert_en_uncased_preprocess/3',\n",
        "    'small_bert/bert_en_uncased_L-12_H-256_A-4':\n",
        "        'https://tfhub.dev/tensorflow/bert_en_uncased_preprocess/3',\n",
        "    'small_bert/bert_en_uncased_L-12_H-512_A-8':\n",
        "        'https://tfhub.dev/tensorflow/bert_en_uncased_preprocess/3',\n",
        "    'small_bert/bert_en_uncased_L-12_H-768_A-12':\n",
        "        'https://tfhub.dev/tensorflow/bert_en_uncased_preprocess/3',\n",
        "    'bert_multi_cased_L-12_H-768_A-12':\n",
        "        'https://tfhub.dev/tensorflow/bert_multi_cased_preprocess/3',\n",
        "    'albert_en_base':\n",
        "        'https://tfhub.dev/tensorflow/albert_en_preprocess/3',\n",
        "    'electra_small':\n",
        "        'https://tfhub.dev/tensorflow/bert_en_uncased_preprocess/3',\n",
        "    'electra_base':\n",
        "        'https://tfhub.dev/tensorflow/bert_en_uncased_preprocess/3',\n",
        "    'experts_pubmed':\n",
        "        'https://tfhub.dev/tensorflow/bert_en_uncased_preprocess/3',\n",
        "    'experts_wiki_books':\n",
        "        'https://tfhub.dev/tensorflow/bert_en_uncased_preprocess/3',\n",
        "    'talking-heads_base':\n",
        "        'https://tfhub.dev/tensorflow/bert_en_uncased_preprocess/3',\n",
        "}\n",
        "\n",
        "tfhub_handle_encoder = map_name_to_handle[bert_model_name]\n",
        "tfhub_handle_preprocess = map_model_to_preprocess[bert_model_name]\n",
        "\n",
        "print(f'BERT model selected           : {tfhub_handle_encoder}')\n",
        "print(f'Preprocess model auto-selected: {tfhub_handle_preprocess}')"
      ],
      "execution_count": 22,
      "outputs": [
        {
          "output_type": "stream",
          "text": [
            "BERT model selected           : https://tfhub.dev/google/electra_small/2\n",
            "Preprocess model auto-selected: https://tfhub.dev/tensorflow/bert_en_uncased_preprocess/3\n"
          ],
          "name": "stdout"
        }
      ]
    },
    {
      "cell_type": "code",
      "metadata": {
        "id": "FIYSKs6DQPNS"
      },
      "source": [
        "bert_preprocess_model = hub.KerasLayer(tfhub_handle_preprocess)"
      ],
      "execution_count": 23,
      "outputs": []
    },
    {
      "cell_type": "code",
      "metadata": {
        "colab": {
          "base_uri": "https://localhost:8080/"
        },
        "id": "gn32591TRwCN",
        "outputId": "9f7b5bf0-5743-414b-a30b-9f5b992dee51"
      },
      "source": [
        "text_test = ['What is the chemical composition of blue vodka shots?']\n",
        "text_preprocessed = bert_preprocess_model(text_test)\n",
        "\n",
        "print(f'Keys       : {list(text_preprocessed.keys())}')\n",
        "print(f'Shape      : {text_preprocessed[\"input_word_ids\"].shape}')\n",
        "print(f'Word Ids   : {text_preprocessed[\"input_word_ids\"][0, :12]}')\n",
        "print(f'Input Mask : {text_preprocessed[\"input_mask\"][0, :12]}')\n",
        "print(f'Type Ids   : {text_preprocessed[\"input_type_ids\"][0, :12]}')"
      ],
      "execution_count": 24,
      "outputs": [
        {
          "output_type": "stream",
          "text": [
            "Keys       : ['input_word_ids', 'input_mask', 'input_type_ids']\n",
            "Shape      : (1, 128)\n",
            "Word Ids   : [  101  2054  2003  1996  5072  5512  1997  2630 21092  7171  1029   102]\n",
            "Input Mask : [1 1 1 1 1 1 1 1 1 1 1 1]\n",
            "Type Ids   : [0 0 0 0 0 0 0 0 0 0 0 0]\n"
          ],
          "name": "stdout"
        }
      ]
    },
    {
      "cell_type": "code",
      "metadata": {
        "id": "6bnThnn3RoHm"
      },
      "source": [
        "bert_model = hub.KerasLayer(tfhub_handle_encoder)"
      ],
      "execution_count": 25,
      "outputs": []
    },
    {
      "cell_type": "code",
      "metadata": {
        "colab": {
          "base_uri": "https://localhost:8080/"
        },
        "id": "RxrprTzOReD5",
        "outputId": "b11b1bf5-8c24-4c0d-9592-c2834181f8b7"
      },
      "source": [
        "bert_results = bert_model(text_preprocessed)\n",
        "\n",
        "print(f'Loaded BERT: {tfhub_handle_encoder}')\n",
        "print(f'Pooled Outputs Shape:{bert_results[\"pooled_output\"].shape}')\n",
        "print(f'Pooled Outputs Values:{bert_results[\"pooled_output\"][0, :12]}')\n",
        "print(f'Sequence Outputs Shape:{bert_results[\"sequence_output\"].shape}')\n",
        "print(f'Sequence Outputs Values:{bert_results[\"sequence_output\"][0, :12]}')"
      ],
      "execution_count": 26,
      "outputs": [
        {
          "output_type": "stream",
          "text": [
            "Loaded BERT: https://tfhub.dev/google/electra_small/2\n",
            "Pooled Outputs Shape:(1, 256)\n",
            "Pooled Outputs Values:[ 0.31410167  0.49924517 -0.5990788   0.34853178  0.64439017 -0.10572165\n",
            "  0.7990648   0.9029216   0.35139617 -0.2815125   0.03656875 -0.90336865]\n",
            "Sequence Outputs Shape:(1, 128, 256)\n",
            "Sequence Outputs Values:[[ 0.3250896   0.5483002  -0.691709   ...  1.1065531  -0.95653176\n",
            "   0.21341462]\n",
            " [ 0.54310805  0.00960368 -0.5540462  ...  0.3237872  -0.05437493\n",
            "   0.39742643]\n",
            " [-0.18921308 -0.0195659   1.2086744  ...  0.73125625 -2.0373333\n",
            "   0.9947276 ]\n",
            " ...\n",
            " [ 0.02106191  0.56318474  0.02782773 ...  0.18746285  0.4464738\n",
            "   0.33136106]\n",
            " [-0.66326946 -0.12063389  0.31808412 ...  0.36141562 -1.0250047\n",
            "   0.7239211 ]\n",
            " [ 0.32615605  0.5515342  -0.69055355 ...  1.1058574  -0.9561197\n",
            "   0.21560813]]\n"
          ],
          "name": "stdout"
        }
      ]
    },
    {
      "cell_type": "markdown",
      "metadata": {
        "id": "6q48-yQqo-lS"
      },
      "source": [
        "## Transform Bert Model to Better Fit Data at Hand"
      ]
    },
    {
      "cell_type": "code",
      "metadata": {
        "id": "ZH2locG2R1Zv"
      },
      "source": [
        "# @title Build New Model Based on Bert\n",
        "\n",
        "def build_classifier_model():\n",
        "  text_input = tf.keras.layers.Input(shape=(), dtype=tf.string, name='text')\n",
        "  preprocessing_layer = hub.KerasLayer(tfhub_handle_preprocess, name='preprocessing')\n",
        "  encoder_inputs = preprocessing_layer(text_input)\n",
        "  encoder = hub.KerasLayer(tfhub_handle_encoder, trainable=True, name='BERT_encoder')\n",
        "  outputs = encoder(encoder_inputs)\n",
        "  net = outputs['pooled_output']\n",
        "  # New Layers\n",
        "  net = tf.keras.layers.Dropout(0.1)(net)\n",
        "  # Final Layer for Classification\n",
        "  net = tf.keras.layers.Dense(1, name='classifier')(net)\n",
        "  return tf.keras.Model(text_input, net)"
      ],
      "execution_count": 27,
      "outputs": []
    },
    {
      "cell_type": "code",
      "metadata": {
        "colab": {
          "base_uri": "https://localhost:8080/"
        },
        "id": "2JGEmPGgR1ey",
        "outputId": "00b749a8-f288-421f-c09c-4814f8f1287a"
      },
      "source": [
        "classifier_model = build_classifier_model()\n",
        "bert_raw_result = classifier_model(tf.constant(text_test))\n",
        "print(tf.sigmoid(bert_raw_result))"
      ],
      "execution_count": 28,
      "outputs": [
        {
          "output_type": "stream",
          "text": [
            "tf.Tensor([[0.38319296]], shape=(1, 1), dtype=float32)\n"
          ],
          "name": "stdout"
        }
      ]
    },
    {
      "cell_type": "code",
      "metadata": {
        "colab": {
          "base_uri": "https://localhost:8080/",
          "height": 466
        },
        "id": "vp-7U66vR1h0",
        "outputId": "80df0dbe-d8af-429d-f924-129de2b0e0a7"
      },
      "source": [
        "tf.keras.utils.plot_model(classifier_model)"
      ],
      "execution_count": 29,
      "outputs": [
        {
          "output_type": "execute_result",
          "data": {
            "image/png": "[encoded data removed]",
            "text/plain": [
              "<IPython.core.display.Image object>"
            ]
          },
          "metadata": {
            "tags": []
          },
          "execution_count": 29
        }
      ]
    },
    {
      "cell_type": "code",
      "metadata": {
        "id": "Dp8VOnfBSS_1"
      },
      "source": [
        "# @title Fit Parameters\n",
        "loss = tf.keras.losses.BinaryCrossentropy(from_logits=True)\n",
        "metrics = tf.metrics.BinaryAccuracy()\n",
        "\n",
        "epochs = 4\n",
        "steps_per_epoch = tf.data.experimental.cardinality(train_ds).numpy()\n",
        "steps_per_epoch = min(steps_per_epoch, 1500)\n",
        "\n",
        "num_train_steps = steps_per_epoch * epochs\n",
        "num_warmup_steps = int(0.1*num_train_steps)\n",
        "\n",
        "init_lr = 0.1e-4\n",
        "optimizer = optimization.create_optimizer(init_lr=init_lr,\n",
        "                                          num_train_steps=num_train_steps,\n",
        "                                          num_warmup_steps=num_warmup_steps,\n",
        "                                          optimizer_type='adamw')\n",
        "\n",
        "classifier_model.compile(optimizer=optimizer,\n",
        "                         loss=loss,\n",
        "                         metrics=metrics,\n",
        "                         )"
      ],
      "execution_count": 30,
      "outputs": []
    },
    {
      "cell_type": "markdown",
      "metadata": {
        "id": "Zi2rqa1jsdLd"
      },
      "source": [
        "Fit to Training Dataset"
      ]
    },
    {
      "cell_type": "code",
      "metadata": {
        "colab": {
          "base_uri": "https://localhost:8080/"
        },
        "id": "m-qafRZQSTJH",
        "outputId": "874f2880-79fe-4c4e-f9e9-8b68e772e597"
      },
      "source": [
        "# @title Fit Model to Data at Hand\n",
        "print(f'Training model with {tfhub_handle_encoder}')\n",
        "history = classifier_model.fit(\n",
        "    x=train_ds,\n",
        "    validation_data=valid_ds,\n",
        "    epochs=epochs,\n",
        "    steps_per_epoch=steps_per_epoch\n",
        "    )"
      ],
      "execution_count": 31,
      "outputs": [
        {
          "output_type": "stream",
          "text": [
            "Training model with https://tfhub.dev/google/electra_small/2\n",
            "Epoch 1/4\n",
            "1500/1500 [==============================] - 924s 602ms/step - loss: 0.2938 - binary_accuracy: 0.8099 - val_loss: 0.1440 - val_binary_accuracy: 0.9481\n",
            "Epoch 2/4\n",
            "1500/1500 [==============================] - 888s 592ms/step - loss: 0.1405 - binary_accuracy: 0.9461 - val_loss: 0.1372 - val_binary_accuracy: 0.9409\n",
            "Epoch 3/4\n",
            "1500/1500 [==============================] - 880s 587ms/step - loss: 0.1344 - binary_accuracy: 0.9494 - val_loss: 0.1302 - val_binary_accuracy: 0.9476\n",
            "Epoch 4/4\n",
            "1500/1500 [==============================] - 882s 588ms/step - loss: 0.1319 - binary_accuracy: 0.9495 - val_loss: 0.1317 - val_binary_accuracy: 0.9485\n"
          ],
          "name": "stdout"
        }
      ]
    },
    {
      "cell_type": "markdown",
      "metadata": {
        "id": "rS4vA5BRU3EU"
      },
      "source": [
        "Notable Best Fits\n",
        "\n",
        "<pre>\n",
        "\n",
        "Training model with https://tfhub.dev/tensorflow/small_bert/bert_en_uncased_L-2_H-128_A-2/1\n",
        "7000/7000 [==============================] - 597s 85ms/step - loss: 0.2329 - binary_accuracy: 0.8834\n",
        "\n",
        "val_loss: 0.1264 - val_binary_accuracy: 0.9495\n",
        "</pre>\n",
        "\n",
        "small-bert has better performance\n"
      ]
    },
    {
      "cell_type": "code",
      "metadata": {
        "id": "T1y66tirbBON"
      },
      "source": [
        "y_true = list(valid_ds.unbatch().map(lambda x, y: y).as_numpy_iterator())"
      ],
      "execution_count": 32,
      "outputs": []
    },
    {
      "cell_type": "code",
      "metadata": {
        "id": "54EA21Lhbw6H"
      },
      "source": [
        "predictions = classifier_model.predict(valid_ds)"
      ],
      "execution_count": 33,
      "outputs": []
    },
    {
      "cell_type": "code",
      "metadata": {
        "colab": {
          "base_uri": "https://localhost:8080/"
        },
        "id": "qDH3N9O3Ti-z",
        "outputId": "a174af76-6e7b-48fc-a14c-7666afa9a0c7"
      },
      "source": [
        "print(classification_report( y_true, predictions.flatten() > 0,  target_names = class_names ))"
      ],
      "execution_count": 34,
      "outputs": [
        {
          "output_type": "stream",
          "text": [
            "              precision    recall  f1-score   support\n",
            "\n",
            "   insincere       0.62      0.48      0.54       969\n",
            "     sincere       0.97      0.98      0.97     15031\n",
            "\n",
            "    accuracy                           0.95     16000\n",
            "   macro avg       0.79      0.73      0.76     16000\n",
            "weighted avg       0.95      0.95      0.95     16000\n",
            "\n"
          ],
          "name": "stdout"
        }
      ]
    },
    {
      "cell_type": "code",
      "metadata": {
        "colab": {
          "base_uri": "https://localhost:8080/",
          "height": 124
        },
        "id": "xVMY4V9G_LRq",
        "outputId": "3959549a-7e30-42e0-f9b9-fa3a2fdebf4c"
      },
      "source": [
        "pd.DataFrame(history.history).style.background_gradient()"
      ],
      "execution_count": 35,
      "outputs": [
        {
          "output_type": "execute_result",
          "data": {
            "text/html": [
              "<style  type=\"text/css\" >\n",
              "#T_aafd7e14_a1fe_11eb_9d17_0242ac1c0002row0_col0,#T_aafd7e14_a1fe_11eb_9d17_0242ac1c0002row0_col2,#T_aafd7e14_a1fe_11eb_9d17_0242ac1c0002row3_col1,#T_aafd7e14_a1fe_11eb_9d17_0242ac1c0002row3_col3{\n",
              "            background-color:  #023858;\n",
              "            color:  #f1f1f1;\n",
              "        }#T_aafd7e14_a1fe_11eb_9d17_0242ac1c0002row0_col1,#T_aafd7e14_a1fe_11eb_9d17_0242ac1c0002row1_col3,#T_aafd7e14_a1fe_11eb_9d17_0242ac1c0002row2_col2,#T_aafd7e14_a1fe_11eb_9d17_0242ac1c0002row3_col0{\n",
              "            background-color:  #fff7fb;\n",
              "            color:  #000000;\n",
              "        }#T_aafd7e14_a1fe_11eb_9d17_0242ac1c0002row0_col3{\n",
              "            background-color:  #03476f;\n",
              "            color:  #f1f1f1;\n",
              "        }#T_aafd7e14_a1fe_11eb_9d17_0242ac1c0002row1_col0{\n",
              "            background-color:  #eee8f3;\n",
              "            color:  #000000;\n",
              "        }#T_aafd7e14_a1fe_11eb_9d17_0242ac1c0002row1_col1{\n",
              "            background-color:  #03517e;\n",
              "            color:  #f1f1f1;\n",
              "        }#T_aafd7e14_a1fe_11eb_9d17_0242ac1c0002row1_col2{\n",
              "            background-color:  #6fa7ce;\n",
              "            color:  #000000;\n",
              "        }#T_aafd7e14_a1fe_11eb_9d17_0242ac1c0002row2_col0{\n",
              "            background-color:  #f4eef6;\n",
              "            color:  #000000;\n",
              "        }#T_aafd7e14_a1fe_11eb_9d17_0242ac1c0002row2_col1{\n",
              "            background-color:  #034973;\n",
              "            color:  #f1f1f1;\n",
              "        }#T_aafd7e14_a1fe_11eb_9d17_0242ac1c0002row2_col3{\n",
              "            background-color:  #04598c;\n",
              "            color:  #f1f1f1;\n",
              "        }#T_aafd7e14_a1fe_11eb_9d17_0242ac1c0002row3_col2{\n",
              "            background-color:  #eee9f3;\n",
              "            color:  #000000;\n",
              "        }</style><table id=\"T_aafd7e14_a1fe_11eb_9d17_0242ac1c0002\" ><thead>    <tr>        <th class=\"blank level0\" ></th>        <th class=\"col_heading level0 col0\" >loss</th>        <th class=\"col_heading level0 col1\" >binary_accuracy</th>        <th class=\"col_heading level0 col2\" >val_loss</th>        <th class=\"col_heading level0 col3\" >val_binary_accuracy</th>    </tr></thead><tbody>\n",
              "                <tr>\n",
              "                        <th id=\"T_aafd7e14_a1fe_11eb_9d17_0242ac1c0002level0_row0\" class=\"row_heading level0 row0\" >0</th>\n",
              "                        <td id=\"T_aafd7e14_a1fe_11eb_9d17_0242ac1c0002row0_col0\" class=\"data row0 col0\" >0.202487</td>\n",
              "                        <td id=\"T_aafd7e14_a1fe_11eb_9d17_0242ac1c0002row0_col1\" class=\"data row0 col1\" >0.908000</td>\n",
              "                        <td id=\"T_aafd7e14_a1fe_11eb_9d17_0242ac1c0002row0_col2\" class=\"data row0 col2\" >0.143953</td>\n",
              "                        <td id=\"T_aafd7e14_a1fe_11eb_9d17_0242ac1c0002row0_col3\" class=\"data row0 col3\" >0.948062</td>\n",
              "            </tr>\n",
              "            <tr>\n",
              "                        <th id=\"T_aafd7e14_a1fe_11eb_9d17_0242ac1c0002level0_row1\" class=\"row_heading level0 row1\" >1</th>\n",
              "                        <td id=\"T_aafd7e14_a1fe_11eb_9d17_0242ac1c0002row1_col0\" class=\"data row1 col0\" >0.138884</td>\n",
              "                        <td id=\"T_aafd7e14_a1fe_11eb_9d17_0242ac1c0002row1_col1\" class=\"data row1 col1\" >0.946625</td>\n",
              "                        <td id=\"T_aafd7e14_a1fe_11eb_9d17_0242ac1c0002row1_col2\" class=\"data row1 col2\" >0.137202</td>\n",
              "                        <td id=\"T_aafd7e14_a1fe_11eb_9d17_0242ac1c0002row1_col3\" class=\"data row1 col3\" >0.940938</td>\n",
              "            </tr>\n",
              "            <tr>\n",
              "                        <th id=\"T_aafd7e14_a1fe_11eb_9d17_0242ac1c0002level0_row2\" class=\"row_heading level0 row2\" >2</th>\n",
              "                        <td id=\"T_aafd7e14_a1fe_11eb_9d17_0242ac1c0002row2_col0\" class=\"data row2 col0\" >0.135649</td>\n",
              "                        <td id=\"T_aafd7e14_a1fe_11eb_9d17_0242ac1c0002row2_col1\" class=\"data row2 col1\" >0.947812</td>\n",
              "                        <td id=\"T_aafd7e14_a1fe_11eb_9d17_0242ac1c0002row2_col2\" class=\"data row2 col2\" >0.130161</td>\n",
              "                        <td id=\"T_aafd7e14_a1fe_11eb_9d17_0242ac1c0002row2_col3\" class=\"data row2 col3\" >0.947563</td>\n",
              "            </tr>\n",
              "            <tr>\n",
              "                        <th id=\"T_aafd7e14_a1fe_11eb_9d17_0242ac1c0002level0_row3\" class=\"row_heading level0 row3\" >3</th>\n",
              "                        <td id=\"T_aafd7e14_a1fe_11eb_9d17_0242ac1c0002row3_col0\" class=\"data row3 col0\" >0.130485</td>\n",
              "                        <td id=\"T_aafd7e14_a1fe_11eb_9d17_0242ac1c0002row3_col1\" class=\"data row3 col1\" >0.950500</td>\n",
              "                        <td id=\"T_aafd7e14_a1fe_11eb_9d17_0242ac1c0002row3_col2\" class=\"data row3 col2\" >0.131711</td>\n",
              "                        <td id=\"T_aafd7e14_a1fe_11eb_9d17_0242ac1c0002row3_col3\" class=\"data row3 col3\" >0.948500</td>\n",
              "            </tr>\n",
              "    </tbody></table>"
            ],
            "text/plain": [
              "<pandas.io.formats.style.Styler at 0x7f111d2aa2d0>"
            ]
          },
          "metadata": {
            "tags": []
          },
          "execution_count": 35
        }
      ]
    },
    {
      "cell_type": "code",
      "metadata": {
        "id": "VYkAI4TOSimm",
        "colab": {
          "base_uri": "https://localhost:8080/"
        },
        "outputId": "87411f53-05c7-4fe6-e506-a91f50251741"
      },
      "source": [
        "# @title Save Fitted Model\n",
        "\n",
        "dataset_name = 'qiqc'\n",
        "saved_model_path = './{}_bert'.format(dataset_name.replace('/', '_'))\n",
        "\n",
        "classifier_model.save(saved_model_path, include_optimizer=False)"
      ],
      "execution_count": 36,
      "outputs": [
        {
          "output_type": "stream",
          "text": [
            "WARNING:absl:Found untraced functions such as restored_function_body, restored_function_body, restored_function_body, restored_function_body, restored_function_body while saving (showing 5 of 900). These functions will not be directly callable after loading.\n",
            "WARNING:absl:Found untraced functions such as restored_function_body, restored_function_body, restored_function_body, restored_function_body, restored_function_body while saving (showing 5 of 900). These functions will not be directly callable after loading.\n"
          ],
          "name": "stderr"
        }
      ]
    },
    {
      "cell_type": "markdown",
      "metadata": {
        "id": "N9Pwj4J8wzIE"
      },
      "source": [
        "# Apply Saved Model to New Data"
      ]
    },
    {
      "cell_type": "code",
      "metadata": {
        "id": "kl4VL6L2Sipt"
      },
      "source": [
        "reloaded_model = tf.saved_model.load(saved_model_path)"
      ],
      "execution_count": 37,
      "outputs": []
    },
    {
      "cell_type": "code",
      "metadata": {
        "id": "umXtIvWLSv0d",
        "colab": {
          "base_uri": "https://localhost:8080/"
        },
        "outputId": "617967e1-fd64-48e5-c6fa-14c102722ae6"
      },
      "source": [
        "def print_my_examples(inputs, results):\n",
        "  result_for_printing = \\\n",
        "    [f'input: {inputs[i]:<30} : score: {1-results[i][0]:.2%}'\n",
        "                         for i in range(len(inputs))]\n",
        "  print(*result_for_printing, sep='\\n')\n",
        "  print()\n",
        "\n",
        "\n",
        "df = pd.read_csv(\"quora_test/part_1.csv\", nrows=30)\n",
        "examples = df.question_text.values\n",
        "\n",
        "reloaded_results = tf.sigmoid(reloaded_model(tf.constant(examples)))\n",
        "\n",
        "print('Results from the saved model:')\n",
        "print_my_examples(examples, reloaded_results)"
      ],
      "execution_count": 39,
      "outputs": [
        {
          "output_type": "stream",
          "text": [
            "Results from the saved model:\n",
            "input: My voice range is A2-C5. My chest voice goes up to F4. Included sample in my higher chest range. What is my voice type? : score: 0.12%\n",
            "input: How much does a tutor earn in Bangalore? : score: 0.07%\n",
            "input: What are the best made pocket knives under $200-300? : score: 0.10%\n",
            "input: Why would they add a hypothetical scenario that’s impossible to happen in the link below? It shows what 800 meters rise in sea level would look like. : score: 0.84%\n",
            "input: What is the dresscode for Techmahindra freshers? : score: 0.12%\n",
            "input: How well are you adapting to the Trump era? : score: 1.65%\n",
            "input: What should be the last thing people do in life? : score: 0.12%\n",
            "input: Received conditional offer for Masters in International Business from UNSW, Monash and Macquarie. Which one should I choose? : score: 0.20%\n",
            "input: What does appareils photo mean in French? : score: 0.09%\n",
            "input: Is there a system of Public Interest Litigation (PIL) in Canada? : score: 0.32%\n",
            "input: What's the best weekend plans in Chennai for outsiders who dont have friends in Chennai? : score: 0.20%\n",
            "input: How did GPS get his name?      : score: 0.12%\n",
            "input: Where can I get opt in email marketing services? : score: 0.08%\n",
            "input: How do perimenopause and menopause differ? : score: 0.13%\n",
            "input: Can a student of B.E. 1st year apply for internships? : score: 0.11%\n",
            "input: What are the advantages and disadvantages of the ex post facto law? : score: 0.17%\n",
            "input: What is fapping?               : score: 0.27%\n",
            "input: Is murder property theft?      : score: 0.29%\n",
            "input: Is it possible to get a PR in Canada after on;y doing masters study there? : score: 0.15%\n",
            "input: What should I keep in mind when debating which career to choose? : score: 0.14%\n",
            "input: Is a decision tree better than logistic regression if the independent variables are categorical? : score: 0.16%\n",
            "input: Is Donnie Wahlberg a baritone? : score: 2.61%\n",
            "input: What is a form of self defense that you can teach yourself from the internet? : score: 0.14%\n",
            "input: Is it okay to pluck pubic hair? : score: 1.27%\n",
            "input: How do I keep my hair healthy and long without any capsule? : score: 0.17%\n",
            "input: Are love and attention the same thing? : score: 0.18%\n",
            "input: My boy friend and I have very different backgrounds (economically, socially and culturally). Sometimes I feel I deserve better. What should I do? : score: 0.73%\n",
            "input: When near the end of your life what are some things that become priority’s? : score: 0.15%\n",
            "input: How did Justice Anthony Kennedy have so much power? : score: 3.42%\n",
            "input: What are the important uses of lanthanum? : score: 0.08%\n",
            "\n"
          ],
          "name": "stdout"
        }
      ]
    }
  ]
}